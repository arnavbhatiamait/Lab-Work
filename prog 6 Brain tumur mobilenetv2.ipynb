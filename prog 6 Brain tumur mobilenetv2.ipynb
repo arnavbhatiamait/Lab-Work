{
 "cells": [
  {
   "cell_type": "markdown",
   "metadata": {},
   "source": [
    "Importing the libraries"
   ]
  },
  {
   "cell_type": "code",
   "execution_count": 1,
   "metadata": {},
   "outputs": [],
   "source": [
    "import numpy as np\n",
    "import pandas as pd\n",
    "import matplotlib.pyplot as plt\n",
    "import tensorflow as tf\n",
    "# from keras.preprocessing.image import ImageDataGenerator\n",
    "from tensorflow.keras.preprocessing.image import ImageDataGenerator\n"
   ]
  },
  {
   "cell_type": "code",
   "execution_count": 2,
   "metadata": {},
   "outputs": [
    {
     "data": {
      "text/plain": [
       "'2.1.0'"
      ]
     },
     "execution_count": 2,
     "metadata": {},
     "output_type": "execute_result"
    }
   ],
   "source": [
    "tf.__version__"
   ]
  },
  {
   "cell_type": "markdown",
   "metadata": {},
   "source": [
    "Part 1 Data Preprocessing"
   ]
  },
  {
   "cell_type": "markdown",
   "metadata": {},
   "source": [
    "Preprocessing The Training set"
   ]
  },
  {
   "cell_type": "code",
   "execution_count": 3,
   "metadata": {},
   "outputs": [
    {
     "name": "stdout",
     "output_type": "stream",
     "text": [
      "Found 202 images belonging to 2 classes.\n"
     ]
    }
   ],
   "source": [
    "train_data_generator=ImageDataGenerator(rescale=1./255,shear_range=0.2,zoom_range=0.2,horizontal_flip=True)\n",
    "# rescale is feature scaling\n",
    "# shear_range is transformation\n",
    "training_set=train_data_generator.flow_from_directory(r\"output\\train\",target_size=(224,224),batch_size=32,class_mode='binary')\n",
    "# class mode will be categorical for more than 1 output"
   ]
  },
  {
   "cell_type": "markdown",
   "metadata": {},
   "source": [
    "Preprocessing The Testing set"
   ]
  },
  {
   "cell_type": "code",
   "execution_count": 4,
   "metadata": {},
   "outputs": [
    {
     "name": "stdout",
     "output_type": "stream",
     "text": [
      "Found 51 images belonging to 2 classes.\n"
     ]
    }
   ],
   "source": [
    "# ! the images of the test set should have the same intact for testing\n",
    "test_data_generator=ImageDataGenerator(rescale=1./255)\n",
    "testing_set=test_data_generator.flow_from_directory(r\"output\\val\",target_size=(224,224),batch_size=32,class_mode='binary')"
   ]
  },
  {
   "cell_type": "code",
   "execution_count": 5,
   "metadata": {},
   "outputs": [
    {
     "name": "stdout",
     "output_type": "stream",
     "text": [
      "WARNING:tensorflow:sample_weight modes were coerced from\n",
      "  ...\n",
      "    to  \n",
      "  ['...']\n",
      "WARNING:tensorflow:sample_weight modes were coerced from\n",
      "  ...\n",
      "    to  \n",
      "  ['...']\n",
      "Train for 7 steps, validate for 2 steps\n",
      "Epoch 1/100\n",
      "7/7 [==============================] - 11s 2s/step - loss: 1.5814 - accuracy: 0.3960 - val_loss: 0.9887 - val_accuracy: 0.5882\n",
      "Epoch 2/100\n",
      "7/7 [==============================] - 3s 470ms/step - loss: 0.7435 - accuracy: 0.5842 - val_loss: 0.8272 - val_accuracy: 0.5882\n",
      "Epoch 3/100\n",
      "7/7 [==============================] - 3s 487ms/step - loss: 0.5900 - accuracy: 0.6881 - val_loss: 0.7273 - val_accuracy: 0.5098\n",
      "Epoch 4/100\n",
      "7/7 [==============================] - 3s 470ms/step - loss: 0.5007 - accuracy: 0.7376 - val_loss: 0.7374 - val_accuracy: 0.5098\n",
      "Epoch 5/100\n",
      "7/7 [==============================] - 3s 488ms/step - loss: 0.4299 - accuracy: 0.8069 - val_loss: 0.7889 - val_accuracy: 0.5294\n",
      "Epoch 6/100\n",
      "7/7 [==============================] - 3s 493ms/step - loss: 0.4140 - accuracy: 0.8119 - val_loss: 0.8708 - val_accuracy: 0.5098\n",
      "Epoch 7/100\n",
      "7/7 [==============================] - 4s 506ms/step - loss: 0.3742 - accuracy: 0.8119 - val_loss: 0.8835 - val_accuracy: 0.5098\n",
      "Epoch 8/100\n",
      "7/7 [==============================] - 3s 499ms/step - loss: 0.3206 - accuracy: 0.8713 - val_loss: 0.8826 - val_accuracy: 0.4902\n",
      "Epoch 9/100\n",
      "7/7 [==============================] - 4s 564ms/step - loss: 0.2932 - accuracy: 0.8713 - val_loss: 0.9367 - val_accuracy: 0.4706\n",
      "Epoch 10/100\n",
      "7/7 [==============================] - 6s 869ms/step - loss: 0.2736 - accuracy: 0.9010 - val_loss: 0.9727 - val_accuracy: 0.4706\n",
      "Epoch 11/100\n",
      "7/7 [==============================] - 15s 2s/step - loss: 0.2519 - accuracy: 0.9109 - val_loss: 0.9433 - val_accuracy: 0.4706\n",
      "Epoch 12/100\n",
      "7/7 [==============================] - 35s 5s/step - loss: 0.2506 - accuracy: 0.9059 - val_loss: 1.0545 - val_accuracy: 0.4510\n",
      "Epoch 13/100\n",
      "7/7 [==============================] - 4s 590ms/step - loss: 0.2430 - accuracy: 0.9158 - val_loss: 1.0287 - val_accuracy: 0.4510\n",
      "Epoch 14/100\n",
      "7/7 [==============================] - 13s 2s/step - loss: 0.2386 - accuracy: 0.9010 - val_loss: 1.1927 - val_accuracy: 0.4510\n",
      "Epoch 15/100\n",
      "7/7 [==============================] - 4s 569ms/step - loss: 0.2223 - accuracy: 0.9257 - val_loss: 1.1210 - val_accuracy: 0.4510\n",
      "Epoch 16/100\n",
      "7/7 [==============================] - 4s 534ms/step - loss: 0.2022 - accuracy: 0.9208 - val_loss: 1.1708 - val_accuracy: 0.4510\n",
      "Epoch 17/100\n",
      "7/7 [==============================] - 4s 582ms/step - loss: 0.2122 - accuracy: 0.9406 - val_loss: 1.1746 - val_accuracy: 0.4510\n",
      "Epoch 18/100\n",
      "7/7 [==============================] - 5s 647ms/step - loss: 0.1905 - accuracy: 0.9356 - val_loss: 1.1705 - val_accuracy: 0.4510\n",
      "Epoch 19/100\n",
      "7/7 [==============================] - 80s 11s/step - loss: 0.2022 - accuracy: 0.9307 - val_loss: 1.0465 - val_accuracy: 0.4706\n",
      "Epoch 20/100\n",
      "7/7 [==============================] - 4s 539ms/step - loss: 0.1852 - accuracy: 0.9455 - val_loss: 1.0548 - val_accuracy: 0.4706\n",
      "Epoch 21/100\n",
      "7/7 [==============================] - 3s 497ms/step - loss: 0.1872 - accuracy: 0.9406 - val_loss: 1.2220 - val_accuracy: 0.4510\n",
      "Epoch 22/100\n",
      "7/7 [==============================] - 3s 491ms/step - loss: 0.1779 - accuracy: 0.9505 - val_loss: 1.1838 - val_accuracy: 0.4510\n",
      "Epoch 23/100\n",
      "7/7 [==============================] - 46s 7s/step - loss: 0.1633 - accuracy: 0.9505 - val_loss: 1.1894 - val_accuracy: 0.4510\n",
      "Epoch 24/100\n",
      "7/7 [==============================] - 44s 6s/step - loss: 0.1632 - accuracy: 0.9406 - val_loss: 1.2036 - val_accuracy: 0.4510\n",
      "Epoch 25/100\n",
      "7/7 [==============================] - 73s 10s/step - loss: 0.1483 - accuracy: 0.9554 - val_loss: 1.0498 - val_accuracy: 0.4706\n",
      "Epoch 26/100\n",
      "7/7 [==============================] - 4s 539ms/step - loss: 0.1679 - accuracy: 0.9257 - val_loss: 1.1998 - val_accuracy: 0.4510\n",
      "Epoch 27/100\n",
      "7/7 [==============================] - 4s 540ms/step - loss: 0.1713 - accuracy: 0.9406 - val_loss: 1.2429 - val_accuracy: 0.4510\n",
      "Epoch 28/100\n",
      "7/7 [==============================] - 4s 551ms/step - loss: 0.1615 - accuracy: 0.9455 - val_loss: 1.0819 - val_accuracy: 0.4706\n",
      "Epoch 29/100\n",
      "7/7 [==============================] - 34s 5s/step - loss: 0.1469 - accuracy: 0.9554 - val_loss: 1.2309 - val_accuracy: 0.4706\n",
      "Epoch 30/100\n",
      "7/7 [==============================] - 4s 611ms/step - loss: 0.1584 - accuracy: 0.9406 - val_loss: 1.1947 - val_accuracy: 0.4706\n",
      "Epoch 31/100\n",
      "7/7 [==============================] - 4s 550ms/step - loss: 0.1307 - accuracy: 0.9554 - val_loss: 1.0964 - val_accuracy: 0.4706\n",
      "Epoch 32/100\n",
      "7/7 [==============================] - 4s 636ms/step - loss: 0.1139 - accuracy: 0.9901 - val_loss: 1.1588 - val_accuracy: 0.4706\n",
      "Epoch 33/100\n",
      "7/7 [==============================] - 5s 663ms/step - loss: 0.1292 - accuracy: 0.9653 - val_loss: 1.1682 - val_accuracy: 0.4706\n",
      "Epoch 34/100\n",
      "7/7 [==============================] - 4s 614ms/step - loss: 0.1303 - accuracy: 0.9653 - val_loss: 1.1541 - val_accuracy: 0.4706\n",
      "Epoch 35/100\n",
      "7/7 [==============================] - 5s 657ms/step - loss: 0.1074 - accuracy: 0.9802 - val_loss: 1.0581 - val_accuracy: 0.5098\n",
      "Epoch 36/100\n",
      "7/7 [==============================] - 20s 3s/step - loss: 0.1272 - accuracy: 0.9752 - val_loss: 1.1347 - val_accuracy: 0.4902\n",
      "Epoch 37/100\n",
      "7/7 [==============================] - 4s 588ms/step - loss: 0.1161 - accuracy: 0.9653 - val_loss: 1.1519 - val_accuracy: 0.4902\n",
      "Epoch 38/100\n",
      "7/7 [==============================] - 5s 649ms/step - loss: 0.1152 - accuracy: 0.9653 - val_loss: 1.0189 - val_accuracy: 0.5294\n",
      "Epoch 39/100\n",
      "7/7 [==============================] - 4s 609ms/step - loss: 0.1216 - accuracy: 0.9653 - val_loss: 1.1736 - val_accuracy: 0.4902\n",
      "Epoch 40/100\n",
      "7/7 [==============================] - 20s 3s/step - loss: 0.1257 - accuracy: 0.9703 - val_loss: 1.1221 - val_accuracy: 0.4902\n",
      "Epoch 41/100\n",
      "7/7 [==============================] - 4s 529ms/step - loss: 0.1149 - accuracy: 0.9653 - val_loss: 1.1427 - val_accuracy: 0.4902\n",
      "Epoch 42/100\n",
      "7/7 [==============================] - 4s 554ms/step - loss: 0.1034 - accuracy: 0.9851 - val_loss: 1.0857 - val_accuracy: 0.5098\n",
      "Epoch 43/100\n",
      "7/7 [==============================] - 4s 545ms/step - loss: 0.1287 - accuracy: 0.9604 - val_loss: 1.2394 - val_accuracy: 0.4706\n",
      "Epoch 44/100\n",
      "7/7 [==============================] - 4s 551ms/step - loss: 0.1212 - accuracy: 0.9653 - val_loss: 1.1406 - val_accuracy: 0.5098\n",
      "Epoch 45/100\n",
      "7/7 [==============================] - 4s 549ms/step - loss: 0.0762 - accuracy: 0.9802 - val_loss: 0.9873 - val_accuracy: 0.5294\n",
      "Epoch 46/100\n",
      "7/7 [==============================] - 11s 2s/step - loss: 0.0884 - accuracy: 0.9703 - val_loss: 1.1963 - val_accuracy: 0.5098\n",
      "Epoch 47/100\n",
      "7/7 [==============================] - 5s 708ms/step - loss: 0.1077 - accuracy: 0.9653 - val_loss: 1.2163 - val_accuracy: 0.5098\n",
      "Epoch 48/100\n",
      "7/7 [==============================] - 5s 737ms/step - loss: 0.1157 - accuracy: 0.9505 - val_loss: 1.1532 - val_accuracy: 0.5098\n",
      "Epoch 49/100\n",
      "7/7 [==============================] - 5s 785ms/step - loss: 0.1114 - accuracy: 0.9653 - val_loss: 1.2323 - val_accuracy: 0.4706\n",
      "Epoch 50/100\n",
      "7/7 [==============================] - 12s 2s/step - loss: 0.1186 - accuracy: 0.9653 - val_loss: 1.1581 - val_accuracy: 0.5098\n",
      "Epoch 51/100\n",
      "7/7 [==============================] - 29s 4s/step - loss: 0.0815 - accuracy: 0.9802 - val_loss: 1.1998 - val_accuracy: 0.5098\n",
      "Epoch 52/100\n",
      "7/7 [==============================] - 4s 595ms/step - loss: 0.1017 - accuracy: 0.9653 - val_loss: 1.2770 - val_accuracy: 0.4706\n",
      "Epoch 53/100\n",
      "7/7 [==============================] - 5s 659ms/step - loss: 0.0902 - accuracy: 0.9604 - val_loss: 1.2454 - val_accuracy: 0.4902\n",
      "Epoch 54/100\n",
      "7/7 [==============================] - 5s 673ms/step - loss: 0.0896 - accuracy: 0.9752 - val_loss: 1.0255 - val_accuracy: 0.5294\n",
      "Epoch 55/100\n",
      "7/7 [==============================] - 4s 583ms/step - loss: 0.0830 - accuracy: 0.9851 - val_loss: 1.1920 - val_accuracy: 0.5294\n",
      "Epoch 56/100\n",
      "7/7 [==============================] - 5s 723ms/step - loss: 0.0780 - accuracy: 0.9851 - val_loss: 1.0471 - val_accuracy: 0.5294\n",
      "Epoch 57/100\n",
      "7/7 [==============================] - 4s 623ms/step - loss: 0.0866 - accuracy: 0.9752 - val_loss: 1.1413 - val_accuracy: 0.5294\n",
      "Epoch 58/100\n",
      "7/7 [==============================] - 4s 605ms/step - loss: 0.0936 - accuracy: 0.9802 - val_loss: 1.0015 - val_accuracy: 0.5490\n",
      "Epoch 59/100\n",
      "7/7 [==============================] - 17s 2s/step - loss: 0.0810 - accuracy: 0.9752 - val_loss: 0.9972 - val_accuracy: 0.5490\n",
      "Epoch 60/100\n",
      "7/7 [==============================] - 15s 2s/step - loss: 0.0745 - accuracy: 0.9851 - val_loss: 1.2299 - val_accuracy: 0.5294\n",
      "Epoch 61/100\n",
      "7/7 [==============================] - 38s 5s/step - loss: 0.0776 - accuracy: 0.9752 - val_loss: 1.1084 - val_accuracy: 0.5294\n",
      "Epoch 62/100\n",
      "7/7 [==============================] - 23s 3s/step - loss: 0.0676 - accuracy: 0.9901 - val_loss: 1.1390 - val_accuracy: 0.5294\n",
      "Epoch 63/100\n",
      "7/7 [==============================] - 3s 498ms/step - loss: 0.0783 - accuracy: 0.9851 - val_loss: 1.2654 - val_accuracy: 0.5294\n",
      "Epoch 64/100\n",
      "7/7 [==============================] - 4s 573ms/step - loss: 0.0799 - accuracy: 0.9901 - val_loss: 1.1921 - val_accuracy: 0.5294\n",
      "Epoch 65/100\n",
      "7/7 [==============================] - 204s 29s/step - loss: 0.0688 - accuracy: 0.9851 - val_loss: 1.0624 - val_accuracy: 0.5490\n",
      "Epoch 66/100\n",
      "6/7 [========================>.....] - ETA: 7s - loss: 0.0840 - accuracy: 0.9647"
     ]
    }
   ],
   "source": [
    "from tensorflow.keras.callbacks import EarlyStopping\n",
    "base_model = tf.keras.applications.MobileNetV2(input_shape=(224,224, 3),\n",
    "                                               include_top=False,\n",
    "                                               weights='imagenet')\n",
    "\n",
    "base_model.trainable = False\n",
    "\n",
    "model = tf.keras.Sequential([\n",
    "    base_model,\n",
    "    tf.keras.layers.GlobalAveragePooling2D(),\n",
    "    tf.keras.layers.Dense(10, activation='softmax')  # Adjust the output units to match the number of classes\n",
    "])\n",
    "\n",
    "model.compile(optimizer=tf.keras.optimizers.Adam(),\n",
    "              loss='sparse_categorical_crossentropy',\n",
    "              metrics=['accuracy'])\n",
    "# early_stopping=EarlyStopping(patience=3)\n",
    "\n",
    "model.fit(training_set, epochs=100, validation_data=testing_set)\n",
    "        #   ,callbacks=[early_stopping])\n"
   ]
  }
 ],
 "metadata": {
  "kernelspec": {
   "display_name": "ev_2",
   "language": "python",
   "name": "python3"
  },
  "language_info": {
   "codemirror_mode": {
    "name": "ipython",
    "version": 3
   },
   "file_extension": ".py",
   "mimetype": "text/x-python",
   "name": "python",
   "nbconvert_exporter": "python",
   "pygments_lexer": "ipython3",
   "version": "3.6.13"
  }
 },
 "nbformat": 4,
 "nbformat_minor": 2
}
